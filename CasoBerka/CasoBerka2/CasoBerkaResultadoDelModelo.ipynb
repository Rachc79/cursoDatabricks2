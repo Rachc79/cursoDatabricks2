{
 "cells": [
  {
   "cell_type": "markdown",
   "metadata": {
    "application/vnd.databricks.v1+cell": {
     "cellMetadata": {},
     "inputWidgets": {},
     "nuid": "cf76807c-1416-47d4-9cc1-41483d1cc308",
     "showTitle": false,
     "title": ""
    }
   },
   "source": [
    "# Data Exploration\n",
    "- This notebook performs exploratory data analysis on the dataset.\n",
    "- To expand on the analysis, attach this notebook to a cluster with runtime version **14.0.x-cpu-ml-scala2.12**,\n",
    "edit [the options of pandas-profiling](https://pandas-profiling.ydata.ai/docs/master/rtd/pages/advanced_usage.html), and rerun it.\n",
    "- Explore completed trials in the [MLflow experiment](#mlflow/experiments/1999048449271427)."
   ]
  },
  {
   "cell_type": "code",
   "execution_count": 0,
   "metadata": {
    "application/vnd.databricks.v1+cell": {
     "cellMetadata": {},
     "inputWidgets": {},
     "nuid": "2b145a75-0987-4337-b5b3-64c216e93c90",
     "showTitle": false,
     "title": ""
    },
    "execution": {
     "iopub.execute_input": "2023-09-18T03:01:29.992090Z",
     "iopub.status.busy": "2023-09-18T03:01:29.991243Z",
     "iopub.status.idle": "2023-09-18T03:01:30.991952Z",
     "shell.execute_reply": "2023-09-18T03:01:30.991223Z"
    }
   },
   "outputs": [],
   "source": [
    "import mlflow\n",
    "import os\n",
    "import uuid\n",
    "import shutil\n",
    "import pandas as pd\n",
    "import databricks.automl_runtime\n",
    "\n",
    "# Download input data from mlflow into a pandas DataFrame\n",
    "# Create temporary directory to download data\n",
    "temp_dir = os.path.join(os.environ[\"SPARK_LOCAL_DIRS\"], \"tmp\", str(uuid.uuid4())[:8])\n",
    "os.makedirs(temp_dir)\n",
    "\n",
    "# Download the artifact and read it\n",
    "training_data_path = mlflow.artifacts.download_artifacts(run_id=\"8f3f1026e0f24fb89ead40ab214d9d42\", artifact_path=\"data\", dst_path=temp_dir)\n",
    "df = pd.read_parquet(os.path.join(training_data_path, \"training_data\"))\n",
    "\n",
    "# Delete the temporary data\n",
    "shutil.rmtree(temp_dir)\n",
    "\n",
    "target_col = \"status\"\n",
    "\n",
    "# Drop columns created by AutoML before pandas-profiling\n",
    "df = df.drop(['_automl_split_col_0000', '_automl_sample_weight_0000'], axis=1)"
   ]
  },
  {
   "cell_type": "markdown",
   "metadata": {
    "application/vnd.databricks.v1+cell": {
     "cellMetadata": {},
     "inputWidgets": {},
     "nuid": "ca2507bb-2fe1-44c7-a3bf-b9088ecff792",
     "showTitle": false,
     "title": ""
    }
   },
   "source": [
    "## Semantic Type Detection Alerts\n",
    "\n",
    "For details about the definition of the semantic types and how to override the detection, see\n",
    "[Databricks documentation on semantic type detection](https://docs.microsoft.com/azure/databricks/applications/machine-learning/automl#semantic-type-detection).\n",
    "\n",
    "- Semantic type `categorical` detected for columns `churn`, `duration`. Training notebooks will encode features based on categorical transformations."
   ]
  },
  {
   "cell_type": "markdown",
   "metadata": {
    "application/vnd.databricks.v1+cell": {
     "cellMetadata": {},
     "inputWidgets": {},
     "nuid": "0a3c864b-c8e4-437c-8075-a52cc431412e",
     "showTitle": false,
     "title": ""
    }
   },
   "source": [
    "## Truncate rows\n",
    "Only the first 10000 rows will be considered for pandas-profiling to avoid out-of-memory issues.\n",
    "Comment out next cell and rerun the notebook to profile the full dataset."
   ]
  },
  {
   "cell_type": "code",
   "execution_count": 0,
   "metadata": {
    "application/vnd.databricks.v1+cell": {
     "cellMetadata": {},
     "inputWidgets": {},
     "nuid": "c6b02eae-f614-4d03-974f-6808d9d6a657",
     "showTitle": false,
     "title": ""
    },
    "execution": {
     "iopub.execute_input": "2023-09-18T03:01:30.995498Z",
     "iopub.status.busy": "2023-09-18T03:01:30.995003Z",
     "iopub.status.idle": "2023-09-18T03:01:30.998572Z",
     "shell.execute_reply": "2023-09-18T03:01:30.998000Z"
    }
   },
   "outputs": [],
   "source": [
    "df = df.iloc[:10000, :]"
   ]
  },
  {
   "cell_type": "markdown",
   "metadata": {
    "application/vnd.databricks.v1+cell": {
     "cellMetadata": {},
     "inputWidgets": {},
     "nuid": "61b1fac4-0c9a-45a6-8c1b-fed65255b2ad",
     "showTitle": false,
     "title": ""
    }
   },
   "source": [
    "## Profiling Results"
   ]
  },
  {
   "cell_type": "code",
   "execution_count": 0,
   "metadata": {
    "application/vnd.databricks.v1+cell": {
     "cellMetadata": {},
     "inputWidgets": {},
     "nuid": "5c3167ba-1f53-40ff-afbd-141120604acd",
     "showTitle": false,
     "title": ""
    },
    "execution": {
     "iopub.execute_input": "2023-09-18T03:01:31.005513Z",
     "iopub.status.busy": "2023-09-18T03:01:31.005044Z",
     "iopub.status.idle": "2023-09-18T03:01:52.643453Z",
     "shell.execute_reply": "2023-09-18T03:01:52.642471Z"
    },
    "large_display_output": true
   },
   "outputs": [],
   "source": [
    "from ydata_profiling import ProfileReport\n",
    "df_profile = ProfileReport(df,\n",
    "                           correlations={\n",
    "                               \"auto\": {\"calculate\": True},\n",
    "                               \"pearson\": {\"calculate\": True},\n",
    "                               \"spearman\": {\"calculate\": True},\n",
    "                               \"kendall\": {\"calculate\": True},\n",
    "                               \"phi_k\": {\"calculate\": True},\n",
    "                               \"cramers\": {\"calculate\": True},\n",
    "                           }, title=\"Profiling Report\", progress_bar=False, infer_dtypes=False)\n",
    "profile_html = df_profile.to_html()\n",
    "\n",
    "displayHTML(profile_html)"
   ]
  }
 ],
 "metadata": {
  "application/vnd.databricks.v1+notebook": {
   "dashboards": [],
   "language": "python",
   "notebookMetadata": {
    "pythonIndentUnit": 4
   },
   "notebookName": "CasoBerkaResultadoDelModelo",
   "widgets": {}
  },
  "language_info": {
   "codemirror_mode": {
    "name": "ipython",
    "version": 3
   },
   "file_extension": ".py",
   "mimetype": "text/x-python",
   "name": "python",
   "nbconvert_exporter": "python",
   "pygments_lexer": "ipython3",
   "version": "3.10.12"
  },
  "name": "DataExploration-c9425bd9f55cbf7e11d9f21dd701782a"
 },
 "nbformat": 4,
 "nbformat_minor": 0
}
